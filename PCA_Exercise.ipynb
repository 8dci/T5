{
  "nbformat": 4,
  "nbformat_minor": 0,
  "metadata": {
    "colab": {
      "provenance": [],
      "include_colab_link": true
    },
    "kernelspec": {
      "name": "python3",
      "display_name": "Python 3"
    },
    "language_info": {
      "name": "python"
    }
  },
  "cells": [
    {
      "cell_type": "markdown",
      "metadata": {
        "id": "view-in-github",
        "colab_type": "text"
      },
      "source": [
        "<a href=\"https://colab.research.google.com/github/8dci/T5/blob/main/PCA_Exercise.ipynb\" target=\"_parent\"><img src=\"https://colab.research.google.com/assets/colab-badge.svg\" alt=\"Open In Colab\"/></a>"
      ]
    },
    {
      "cell_type": "markdown",
      "source": [
        "# **PCA**\n",
        "\n",
        "\n",
        "\n",
        "\n",
        "\n"
      ],
      "metadata": {
        "id": "d_VMK5_TYu5S"
      }
    },
    {
      "cell_type": "markdown",
      "source": [
        "#Step 1 : import libraries"
      ],
      "metadata": {
        "id": "rm1w6Pl2vrr4"
      }
    },
    {
      "cell_type": "code",
      "execution_count": 17,
      "metadata": {
        "id": "KifnD8RtYlFv"
      },
      "outputs": [],
      "source": [
        "import pandas as pd\n",
        "import numpy as np\n",
        "from sklearn.decomposition import PCA\n",
        "from sklearn.datasets import load_iris\n",
        "from sklearn.model_selection import train_test_split\n",
        "from sklearn.linear_model import LogisticRegression\n",
        "from sklearn.metrics import accuracy_score, confusion_matrix\n",
        "import matplotlib.pyplot as plt\n",
        "import seaborn as sns"
      ]
    },
    {
      "cell_type": "markdown",
      "source": [
        "#Step 2: Importing the data set\n",
        "\n",
        "###Import the dataset and distributing the dataset into X and y components for data analysis.\n",
        "\n",
        "\n"
      ],
      "metadata": {
        "id": "YIQqz2T5vy_M"
      }
    },
    {
      "cell_type": "code",
      "source": [
        "iris = load_iris()\n",
        "X = iris.data\n",
        "y = iris.target\n",
        "\n"
      ],
      "metadata": {
        "id": "rydT0aSdZFBv"
      },
      "execution_count": 18,
      "outputs": []
    },
    {
      "cell_type": "code",
      "source": [
        "X_mean = X.mean()"
      ],
      "metadata": {
        "id": "H4ANG6io3fXM"
      },
      "execution_count": 32,
      "outputs": []
    },
    {
      "cell_type": "code",
      "source": [
        "X_std = X.std()"
      ],
      "metadata": {
        "id": "AugJ058j3hn0"
      },
      "execution_count": 33,
      "outputs": []
    },
    {
      "cell_type": "code",
      "source": [
        "Z = (X - X_mean) / X_std"
      ],
      "metadata": {
        "id": "IXVJXOND3mXF"
      },
      "execution_count": 34,
      "outputs": []
    },
    {
      "cell_type": "code",
      "source": [
        "c = np.cov(Z, rowvar=False)"
      ],
      "metadata": {
        "id": "939Y5uNT3rF6"
      },
      "execution_count": 36,
      "outputs": []
    },
    {
      "cell_type": "code",
      "source": [
        "sns.heatmap(c)\n",
        "plt.show()"
      ],
      "metadata": {
        "id": "dl-R6i5Y35wn",
        "outputId": "31787466-3a6a-4d94-d31c-f7d087741a74",
        "colab": {
          "base_uri": "https://localhost:8080/",
          "height": 430
        }
      },
      "execution_count": 37,
      "outputs": [
        {
          "output_type": "display_data",
          "data": {
            "text/plain": [
              "<Figure size 640x480 with 2 Axes>"
            ],
            "image/png": "[encoded data removed]"
          },
          "metadata": {}
        }
      ]
    },
    {
      "cell_type": "code",
      "source": [
        "eigenvalues, eigenvectors = np.linalg.eig(c)\n",
        "print('Eigen values:\\n', eigenvalues)\n",
        "print('Eigen values Shape:', eigenvalues.shape)\n",
        "print('Eigen Vector Shape:', eigenvectors.shape)"
      ],
      "metadata": {
        "id": "KEUzZDMy3_Yf",
        "outputId": "0db91be1-11c7-43f0-d1df-0900feab7293",
        "colab": {
          "base_uri": "https://localhost:8080/"
        }
      },
      "execution_count": 38,
      "outputs": [
        {
          "output_type": "stream",
          "name": "stdout",
          "text": [
            "Eigen values:\n",
            " [1.08526193 0.06228625 0.02007402 0.00611775]\n",
            "Eigen values Shape: (4,)\n",
            "Eigen Vector Shape: (4, 4)\n"
          ]
        }
      ]
    },
    {
      "cell_type": "markdown",
      "source": [
        "#Step 3 : Step 3: Splitting the dataset into the Training set and Test set\n",
        "\n",
        "\n",
        "\n"
      ],
      "metadata": {
        "id": "iu8551hZZKB1"
      }
    },
    {
      "cell_type": "code",
      "source": [
        "X_train, X_test, y_train, y_test = train_test_split(X, y, test_size=0.3, random_state=40)"
      ],
      "metadata": {
        "id": "KUbALv2xZKp8"
      },
      "execution_count": 19,
      "outputs": []
    },
    {
      "cell_type": "markdown",
      "source": [
        "#Step 4: Feature Scaling\n",
        "###Doing the pre-processing part on training and testing set such as fitting the Standard scale.\n",
        "\n",
        "\n",
        "\n",
        "\n"
      ],
      "metadata": {
        "id": "SgMGNFJwbOwb"
      }
    },
    {
      "cell_type": "code",
      "source": [
        "scaler = StandardScaler()\n",
        "X_train_standardized = scaler.fit_transform(X_train)\n",
        "X_test_standardized = scaler.transform(X_test)"
      ],
      "metadata": {
        "id": "IAXZ4SKBbTaF"
      },
      "execution_count": 20,
      "outputs": []
    },
    {
      "cell_type": "markdown",
      "source": [
        "#Step 5: Applying PCA function\n",
        "###Applying the PCA function into the training and testing set for analysis.\n",
        "\n",
        "\n"
      ],
      "metadata": {
        "id": "JRKujGH2bmQQ"
      }
    },
    {
      "cell_type": "code",
      "source": [
        "pca = PCA(n_components=2)\n",
        "X_train_pca = pca.fit_transform(X_train_standardized)\n",
        "\n",
        "X_test_pca = pca.transform(X_test_standardized)\n",
        "print(\"المكونات الرئيسية لمجموعة التدريب:\\n\", X_train_pca)\n",
        "print(\"المكونات الرئيسية لمجموعة الاختبار:\\n\", X_test_pca)\n",
        "print(\"التباين المفسر من قبل كل مكون:\\n\", pca.explained_variance_ratio_)"
      ],
      "metadata": {
        "id": "H8kF4bozbt2o",
        "colab": {
          "base_uri": "https://localhost:8080/"
        },
        "outputId": "a0ec69ed-206a-4913-b6d6-d48f4d2e2f69"
      },
      "execution_count": 21,
      "outputs": [
        {
          "output_type": "stream",
          "name": "stdout",
          "text": [
            "المكونات الرئيسية لمجموعة التدريب:\n",
            " [[-2.23668162 -0.1902989 ]\n",
            " [ 3.31073884 -0.08420016]\n",
            " [ 0.89264251 -0.00743544]\n",
            " [ 0.84205306 -0.2544125 ]\n",
            " [-2.60668936 -0.50341652]\n",
            " [ 1.79978323 -0.88268021]\n",
            " [ 1.05500257  0.20441331]\n",
            " [ 0.14010403  0.82012539]\n",
            " [ 0.54839488  0.16589384]\n",
            " [-2.29426364 -0.04984896]\n",
            " [-2.30218935 -1.41324902]\n",
            " [ 0.19820786  0.41341481]\n",
            " [ 0.15701293  1.33511583]\n",
            " [ 1.5898168   0.41206945]\n",
            " [ 1.09398494  0.29395685]\n",
            " [-2.46868659 -0.56280362]\n",
            " [ 2.00217884 -0.89452322]\n",
            " [ 0.40649311  0.08293506]\n",
            " [-2.24962552 -0.9728765 ]\n",
            " [ 1.85579025 -0.4436342 ]\n",
            " [-2.11457906  0.79550355]\n",
            " [-2.32170493  0.42797404]\n",
            " [ 2.88518946 -0.47340541]\n",
            " [-2.45142806  0.48063318]\n",
            " [ 1.83590353 -0.59433975]\n",
            " [ 1.32290065 -0.70233993]\n",
            " [-1.98014718 -0.34126533]\n",
            " [ 1.49149996 -0.28068157]\n",
            " [ 0.68755702 -0.59150252]\n",
            " [-2.7219151  -1.71115798]\n",
            " [-2.29064827 -0.84588248]\n",
            " [ 1.98161437 -0.63863922]\n",
            " [-2.24099626 -0.4511581 ]\n",
            " [ 1.31065601 -0.42802482]\n",
            " [ 1.56237551  0.88989246]\n",
            " [ 1.32820247 -0.34478299]\n",
            " [ 0.69734566 -0.76779339]\n",
            " [ 1.8421026  -0.40968922]\n",
            " [ 0.63709526  0.24022872]\n",
            " [ 2.77458779 -0.9170004 ]\n",
            " [-2.16033207  0.54312506]\n",
            " [ 1.14306539  0.71049681]\n",
            " [ 1.23082833  0.93257902]\n",
            " [ 1.20494053 -0.63257618]\n",
            " [-2.55798005 -2.07880518]\n",
            " [-2.12577052  0.75658336]\n",
            " [-2.33756065 -0.40025171]\n",
            " [ 1.99926702 -0.94017136]\n",
            " [ 1.14306539  0.71049681]\n",
            " [ 0.69222128  0.19780303]\n",
            " [-2.11709676 -0.59511353]\n",
            " [ 0.37309093 -0.82853251]\n",
            " [ 1.41584966  0.04278719]\n",
            " [ 2.200432   -1.96193242]\n",
            " [-0.4926559   1.91164684]\n",
            " [ 0.92871307  0.03645995]\n",
            " [ 1.27693097  1.71340387]\n",
            " [ 0.90149371 -0.03597898]\n",
            " [ 1.04608537  0.64288989]\n",
            " [-1.99604739  0.70392422]\n",
            " [-0.36152996  2.07419876]\n",
            " [ 0.03392318  0.25261564]\n",
            " [ 2.28201738 -0.46101849]\n",
            " [ 0.05589046  0.21194271]\n",
            " [ 2.42142296 -0.30519453]\n",
            " [-1.86391274  2.42665613]\n",
            " [ 1.19381078  0.81714496]\n",
            " [ 1.32051065 -1.01424872]\n",
            " [ 0.83773843 -0.5152717 ]\n",
            " [ 0.12816883  1.59772778]\n",
            " [-2.1695544  -1.42026002]\n",
            " [ 2.00667091  0.68948934]\n",
            " [ 0.22298078  0.80316398]\n",
            " [-1.89727043 -0.35822674]\n",
            " [-0.45844398  1.59665879]\n",
            " [ 0.35970843  1.60727412]\n",
            " [-2.26412291  0.28752411]\n",
            " [-2.03626039 -0.39553738]\n",
            " [ 0.95681343  0.59037059]\n",
            " [ 1.051281    1.38522079]\n",
            " [-2.47440404 -1.03887387]\n",
            " [-2.22573361 -1.06459903]\n",
            " [-0.09205162  2.70580993]\n",
            " [-2.19057899  0.59052595]\n",
            " [ 1.86803489 -0.71794931]\n",
            " [ 0.23276942  0.62687311]\n",
            " [ 2.23532167 -2.68351002]\n",
            " [-2.85494416 -0.35917805]\n",
            " [ 1.8396466  -0.31166497]\n",
            " [ 0.3238598   1.01311679]\n",
            " [-2.29863998 -1.7993495 ]\n",
            " [-2.37507851  1.21405714]\n",
            " [ 1.81831688 -0.70274065]\n",
            " [-2.26552573  0.07231305]\n",
            " [ 0.61074735  0.4299755 ]\n",
            " [ 0.59134225 -0.01214977]\n",
            " [ 0.36540436  0.61986212]\n",
            " [ 0.67520619  0.06758655]\n",
            " [-2.43296567 -1.04735458]\n",
            " [ 1.44833066  0.44762399]\n",
            " [ 0.4532333   0.43201129]\n",
            " [-2.26377328  0.81597046]\n",
            " [ 1.05971131 -0.87969643]\n",
            " [-2.30008728 -0.14114525]\n",
            " [ 0.69379628 -0.38169291]]\n",
            "المكونات الرئيسية لمجموعة الاختبار:\n",
            " [[-2.47595753  1.00410433]\n",
            " [ 0.31575235  0.22513774]\n",
            " [ 1.5496038  -0.68739215]\n",
            " [ 2.35718079 -2.61092789]\n",
            " [ 0.27596023  1.36204982]\n",
            " [ 1.52483088 -1.07714132]\n",
            " [ 1.23794859  1.62386033]\n",
            " [ 0.27024278  0.88597957]\n",
            " [ 0.18894104  0.32344503]\n",
            " [-2.2064347  -0.23769979]\n",
            " [ 0.26627778  1.15356672]\n",
            " [-2.39373985 -0.04459071]\n",
            " [-2.35952793 -0.35957877]\n",
            " [ 1.1548944   0.31766838]\n",
            " [-0.05453376  1.09150108]\n",
            " [ 1.95392964 -1.07403654]\n",
            " [ 1.31917908  0.47846755]\n",
            " [ 1.6555412  -1.03310272]\n",
            " [ 1.23693989  0.06368033]\n",
            " [-0.00825894  1.07761893]\n",
            " [ 1.84536405  0.16440529]\n",
            " [ 2.7277816  -0.85614359]\n",
            " [ 0.41140081  1.78546093]\n",
            " [-2.26296354 -0.41048516]\n",
            " [-0.06415021  0.47308494]\n",
            " [-1.98621426 -1.34578194]\n",
            " [-2.68027777  1.06699693]\n",
            " [ 1.44178195 -0.2654729 ]\n",
            " [-2.23492918  0.55335851]\n",
            " [ 0.02041298  1.60971398]\n",
            " [ 0.57235805  1.78209863]\n",
            " [-1.87885253 -0.0127992 ]\n",
            " [-2.11773432 -0.16336491]\n",
            " [-2.31303118 -0.92372286]\n",
            " [-2.42118114  0.43323229]\n",
            " [ 1.77076694  0.17463874]\n",
            " [-2.51227153  0.04698862]\n",
            " [-2.61139811  0.58069322]\n",
            " [ 1.25653869  1.17458086]\n",
            " [-2.38425635 -2.62274323]\n",
            " [-2.35054903  0.69058599]\n",
            " [ 1.01181175 -0.5307634 ]\n",
            " [ 0.98920691 -0.05834184]\n",
            " [ 2.17864216 -0.59810613]\n",
            " [ 1.91597465 -1.04172327]]\n",
            "التباين المفسر من قبل كل مكون:\n",
            " [0.73432687 0.22170312]\n"
          ]
        }
      ]
    },
    {
      "cell_type": "markdown",
      "source": [
        "#Step 6: Fitting Logistic Regression To the training set\n",
        "\n",
        "\n"
      ],
      "metadata": {
        "id": "mEe5WUw5bzKQ"
      }
    },
    {
      "cell_type": "code",
      "source": [
        "logistic_regressor = LogisticRegression()\n",
        "logistic_regressor.fit(X_train_pca, y_train)\n",
        "\n",
        "y_pred = logistic_regressor.predict(X_test_pca)\n",
        "accuracy = accuracy_score(y_test, y_pred)\n",
        "conf_matrix = confusion_matrix(y_test, y_pred)\n"
      ],
      "metadata": {
        "id": "GigvLsiBbyen"
      },
      "execution_count": 23,
      "outputs": []
    },
    {
      "cell_type": "markdown",
      "source": [
        "#Step 7: Predicting the test set result\n",
        "\n",
        "\n"
      ],
      "metadata": {
        "id": "5Rwr3eVZV_5e"
      }
    },
    {
      "cell_type": "code",
      "source": [
        "y_pred = logistic_regressor.predict(X_test_pca)\n",
        "\n",
        "print(\"التنبؤات لمجموعة الاختبار:\\n\", y_pred)\n",
        "print(\"العلامات الفعلية لمجموعة الاختبار:\\n\", y_test)\n",
        "\n",
        "accuracy = accuracy_score(y_test, y_pred)\n",
        "print(\"دقة النموذج (Accuracy):\", accuracy)\n"
      ],
      "metadata": {
        "id": "iUWVlHMgb2g8",
        "colab": {
          "base_uri": "https://localhost:8080/"
        },
        "outputId": "f31a8970-fb60-49d2-a772-02a9d9842beb"
      },
      "execution_count": 48,
      "outputs": [
        {
          "output_type": "stream",
          "name": "stdout",
          "text": [
            "التنبؤات لمجموعة الاختبار:\n",
            " [0 1 2 2 1 2 2 1 1 0 1 0 0 2 1 2 2 2 2 1 2 2 1 0 1 0 0 2 0 1 1 0 0 0 0 2 0\n",
            " 0 2 0 0 1 1 2 2]\n",
            "العلامات الفعلية لمجموعة الاختبار:\n",
            " [0 1 2 2 1 2 1 1 1 0 1 0 0 2 1 2 2 2 1 1 2 2 1 0 1 0 0 2 0 1 1 0 0 0 0 2 0\n",
            " 0 2 0 0 1 2 2 2]\n",
            "دقة النموذج (Accuracy): 0.9333333333333333\n"
          ]
        }
      ]
    },
    {
      "cell_type": "markdown",
      "source": [
        "#Step 8: Making the confusion matrix\n",
        "\n",
        "\n"
      ],
      "metadata": {
        "id": "5LriaSY7b-rk"
      }
    },
    {
      "cell_type": "code",
      "source": [
        "conf_matrix = confusion_matrix(y_test, y_pred)\n",
        "print(\"مصفوفة الارتباك (Confusion Matrix):\\n\", conf_matrix)"
      ],
      "metadata": {
        "id": "Lfg8qrT0b6jC",
        "colab": {
          "base_uri": "https://localhost:8080/"
        },
        "outputId": "100653d9-df78-4c02-9acc-579d095ff123"
      },
      "execution_count": 25,
      "outputs": [
        {
          "output_type": "stream",
          "name": "stdout",
          "text": [
            "مصفوفة الارتباك (Confusion Matrix):\n",
            " [[16  0  0]\n",
            " [ 0 12  2]\n",
            " [ 0  1 14]]\n"
          ]
        }
      ]
    },
    {
      "cell_type": "markdown",
      "source": [
        "#Step 9: Predicting the training set result\n",
        "\n",
        "\n"
      ],
      "metadata": {
        "id": "O5y7HfZBcNWB"
      }
    },
    {
      "cell_type": "code",
      "source": [
        "y_train_pred = logistic_regressor.predict(X_train_pca)\n",
        "\n",
        "print(\"التنبؤات لمجموعة التدريب:\\n\", y_train_pred)\n",
        "print(\"العلامات الفعلية لمجموعة التدريب:\\n\", y_train)\n",
        "\n",
        "train_accuracy = accuracy_score(y_train, y_train_pred)\n",
        "train_conf_matrix = confusion_matrix(y_train, y_train_pred)\n",
        "\n",
        "print(\"دقة النموذج على مجموعة التدريب (Training Set Accuracy):\", train_accuracy)\n",
        "print(\"مصفوفة الارتباك لمجموعة التدريب (Training Set Confusion Matrix):\\n\", train_conf_matrix)"
      ],
      "metadata": {
        "id": "JQOq1bdwcEQ-",
        "colab": {
          "base_uri": "https://localhost:8080/"
        },
        "outputId": "8025ee15-de14-4692-e9e3-833c8af0a58f"
      },
      "execution_count": 28,
      "outputs": [
        {
          "output_type": "stream",
          "name": "stdout",
          "text": [
            "التنبؤات لمجموعة التدريب:\n",
            " [0 2 1 1 0 2 1 1 1 0 0 1 1 2 2 0 2 1 0 2 0 0 2 0 2 2 0 2 1 0 0 2 0 2 2 2 1\n",
            " 2 1 2 0 2 2 2 0 0 0 2 2 1 0 1 2 2 1 1 2 1 2 0 1 1 2 1 2 0 2 2 1 1 0 2 1 0\n",
            " 1 1 0 0 1 2 0 0 1 0 2 1 2 0 2 1 0 0 2 0 1 1 1 1 0 2 1 0 1 0 1]\n",
            "العلامات الفعلية لمجموعة التدريب:\n",
            " [0 2 2 1 0 2 1 1 1 0 0 1 1 2 2 0 2 1 0 2 0 0 2 0 2 2 0 2 1 0 0 2 0 2 2 1 1\n",
            " 2 1 2 0 2 1 1 0 0 0 2 2 1 0 1 2 2 1 2 2 1 1 0 1 1 2 1 2 0 2 2 1 1 0 2 1 0\n",
            " 1 2 0 0 2 1 0 0 1 0 2 1 2 0 2 1 0 0 2 0 1 1 1 1 0 2 1 0 1 0 1]\n",
            "دقة النموذج على مجموعة التدريب (Training Set Accuracy): 0.9142857142857143\n",
            "مصفوفة الارتباك لمجموعة التدريب (Training Set Confusion Matrix):\n",
            " [[34  0  0]\n",
            " [ 0 31  5]\n",
            " [ 0  4 31]]\n"
          ]
        }
      ]
    },
    {
      "cell_type": "markdown",
      "source": [
        "#Step 10: Visualizing the Test set results\n",
        "\n",
        "\n"
      ],
      "metadata": {
        "id": "ggs2TZ_BWPXk"
      }
    },
    {
      "cell_type": "code",
      "source": [
        "def plot_decision_boundary(X, y, model, title):\n",
        "    x_min, x_max = X[:, 0].min() - 1, X[:, 0].max() + 1\n",
        "    y_min, y_max = X[:, 1].min() - 1, X[:, 1].max() + 1\n",
        "    xx, yy = np.meshgrid(np.arange(x_min, x_max, 0.01),\n",
        "                         np.arange(y_min, y_max, 0.01))\n",
        "    Z = model.predict(np.c_[xx.ravel(), yy.ravel()])\n",
        "    Z = Z.reshape(xx.shape)\n",
        "    plt.contourf(xx, yy, Z, alpha=0.3)\n",
        "    plt.scatter(X[:, 0], X[:, 1], c=y, edgecolors='k', marker='o')\n",
        "    plt.title(title)\n",
        "    plt.xlabel('Main component1')\n",
        "    plt.ylabel('Main component2')\n",
        "    plt.show()\n",
        "plot_decision_boundary(X_test_pca, y_test, logistic_regressor, 'Test Result')"
      ],
      "metadata": {
        "id": "LoqPn9RCc4bM",
        "colab": {
          "base_uri": "https://localhost:8080/",
          "height": 472
        },
        "outputId": "487bc2b2-8e80-4341-ed3d-a06ebe691dcb"
      },
      "execution_count": 31,
      "outputs": [
        {
          "output_type": "display_data",
          "data": {
            "text/plain": [
              "<Figure size 640x480 with 1 Axes>"
            ],
            "image/png": "[encoded data removed]"
          },
          "metadata": {}
        }
      ]
    },
    {
      "cell_type": "code",
      "source": [
        "explained_var = np.cumsum(eigenvalues) / np.sum(eigenvalues)\n",
        "explained_var"
      ],
      "metadata": {
        "id": "yBLSbC6h4h0o",
        "outputId": "22bde07e-a391-4d0b-fd78-75097a125db7",
        "colab": {
          "base_uri": "https://localhost:8080/"
        }
      },
      "execution_count": 42,
      "outputs": [
        {
          "output_type": "execute_result",
          "data": {
            "text/plain": [
              "array([0.92461872, 0.97768521, 0.99478782, 1.        ])"
            ]
          },
          "metadata": {},
          "execution_count": 42
        }
      ]
    },
    {
      "cell_type": "code",
      "source": [
        "n_components = np.argmax(explained_var >= 0.50) + 1\n",
        "n_components"
      ],
      "metadata": {
        "id": "U80K5q7U4dU-",
        "outputId": "81b37213-f418-4d74-f34d-2704e839a620",
        "colab": {
          "base_uri": "https://localhost:8080/"
        }
      },
      "execution_count": 43,
      "outputs": [
        {
          "output_type": "execute_result",
          "data": {
            "text/plain": [
              "1"
            ]
          },
          "metadata": {},
          "execution_count": 43
        }
      ]
    },
    {
      "cell_type": "code",
      "source": [
        "# Importing PCA\n",
        "from sklearn.decomposition import PCA\n",
        "\n",
        "# Let's say, components = 2\n",
        "pca = PCA(n_components=2)\n",
        "pca.fit(Z)\n",
        "x_pca = pca.transform(Z)\n",
        "\n",
        "# Create the dataframe\n",
        "# Use 2 in the range to match the number of components in x_pca\n",
        "df_pca1 = pd.DataFrame(x_pca,\n",
        "                       columns=['PC{}'.format(i+1)\n",
        "                                for i in range(2)]) # Changed from n_components to 2\n",
        "print(df_pca1)"
      ],
      "metadata": {
        "id": "evcRcCaP4T2m",
        "outputId": "a439b1b3-d450-4923-bc74-4504e4189bff",
        "colab": {
          "base_uri": "https://localhost:8080/"
        }
      },
      "execution_count": 45,
      "outputs": [
        {
          "output_type": "stream",
          "name": "stdout",
          "text": [
            "          PC1       PC2\n",
            "0   -1.359848  0.161815\n",
            "1   -1.375054 -0.089673\n",
            "2   -1.463637 -0.073435\n",
            "3   -1.390862 -0.161259\n",
            "4   -1.382438  0.165542\n",
            "..        ...       ...\n",
            "145  0.984936  0.095009\n",
            "146  0.773702 -0.190145\n",
            "147  0.893863  0.039952\n",
            "148  0.963066  0.059087\n",
            "149  0.704306 -0.143203\n",
            "\n",
            "[150 rows x 2 columns]\n"
          ]
        }
      ]
    },
    {
      "cell_type": "code",
      "source": [
        "plt.figure(figsize=(8, 6))\n",
        "\n",
        "# Assuming 'y' contains the target values corresponding to x_pca\n",
        "plt.scatter(x_pca[:, 0], x_pca[:, 1],\n",
        "            c=y,  # Use 'y' instead of 'cancer['target']'\n",
        "            cmap='plasma')\n",
        "\n",
        "# labeling x and y axes\n",
        "plt.xlabel('First Principal Component')\n",
        "plt.ylabel('Second Principal Component')\n",
        "plt.show()"
      ],
      "metadata": {
        "id": "mvcH_F0w4MNF",
        "outputId": "c201cfc5-cc2c-4256-ada9-b3a61bca21da",
        "colab": {
          "base_uri": "https://localhost:8080/",
          "height": 542
        }
      },
      "execution_count": 47,
      "outputs": [
        {
          "output_type": "display_data",
          "data": {
            "text/plain": [
              "<Figure size 800x600 with 1 Axes>"
            ],
            "image/png": "[encoded data removed]"
          },
          "metadata": {}
        }
      ]
    },
    {
      "cell_type": "markdown",
      "source": [
        "#**Well Done :)**\n",
        "Now let's practice!"
      ],
      "metadata": {
        "id": "eNSPTcFRvHqe"
      }
    }
  ]
}