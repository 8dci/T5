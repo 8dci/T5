{
  "cells": [
    {
      "cell_type": "markdown",
      "metadata": {
        "id": "view-in-github",
        "colab_type": "text"
      },
      "source": [
        "<a href=\"https://colab.research.google.com/github/8dci/T5/blob/main/07_exercise_multi_class_classifier_starter_code.ipynb\" target=\"_parent\"><img src=\"https://colab.research.google.com/assets/colab-badge.svg\" alt=\"Open In Colab\"/></a>"
      ]
    },
    {
      "cell_type": "markdown",
      "metadata": {
        "id": "0UD-1_xY-h2u"
      },
      "source": [
        "# Multi-class Classifier\n",
        "\n",
        "In this lab, you will look at how to build a model to distinguish between more than two classes. The code will be similar to the ones you've been using before with a few key changes in the model and in the training parameters. Let's dive in!\n",
        "\n"
      ]
    },
    {
      "cell_type": "markdown",
      "metadata": {
        "id": "RKp8LMo7v5ww"
      },
      "source": [
        "## Imports"
      ]
    },
    {
      "cell_type": "code",
      "execution_count": null,
      "metadata": {
        "id": "xxeHE_RLv5ww"
      },
      "outputs": [],
      "source": [
        "import os\n",
        "import random\n",
        "import numpy as np\n",
        "from io import BytesIO\n",
        "\n",
        "# Plotting and dealing with images\n",
        "import matplotlib.pyplot as plt\n",
        "import matplotlib.image as mpimg\n",
        "\n",
        "\n",
        "\n",
        "# Interactive widgets\n",
        "from ipywidgets import widgets"
      ]
    },
    {
      "cell_type": "markdown",
      "metadata": {
        "id": "FvwVR5lHA8q_"
      },
      "source": [
        "## Inspect the Dataset\n",
        "\n",
        "You will be using the [Rock-Paper-Scissors dataset](https://www.tensorflow.org/datasets/catalog/rock_paper_scissors), a gallery of hands images in Rock, Paper, and Scissors poses.\n",
        "\n",
        "As usual, you will assign the directory names into variables and look at the filenames as a sanity check."
      ]
    },
    {
      "cell_type": "code",
      "source": [
        "!unzip rps-test-set.zip"
      ],
      "metadata": {
        "id": "3y4fwxMUigvv"
      },
      "execution_count": null,
      "outputs": []
    },
    {
      "cell_type": "code",
      "source": [
        "%ls"
      ],
      "metadata": {
        "id": "sfKYBy88jFDi"
      },
      "execution_count": null,
      "outputs": []
    },
    {
      "cell_type": "code",
      "source": [
        "BASE_DIR ='/content/rps-test-set'\n",
        "\n",
        "rock_dir = os.path.join(BASE_DIR, 'rock')\n",
        "paper_dir = os.path.join(BASE_DIR, 'paper')\n",
        "scissors_dir = os.path.join(BASE_DIR, 'scissors')\n",
        "\n",
        "\n",
        "total_rock_images = len(os.listdir(rock_dir))\n",
        "total_paper_images = len(os.listdir(paper_dir))\n",
        "total_scissors_images = len(os.listdir(scissors_dir))\n",
        "\n",
        "\n",
        "print(f'total training rock images: {total_rock_images}')\n",
        "print(f'total training paper images: {total_paper_images}')\n",
        "print(f'total training scissors images: {total_scissors_images}')\n",
        "\n",
        "rock_files = os.listdir(rock_dir)\n",
        "paper_files = os.listdir(paper_dir)\n",
        "scissors_files = os.listdir(scissors_dir)\n",
        "\n",
        "print()\n",
        "print(f\"5 files in the rock subdir: {rock_files[:5]}\")\n",
        "print(f\"5 files in the paper subdir: {paper_files[:5]}\")\n",
        "print(f\"5 files in the scissors subdir: {scissors_files[:5]}\")\n"
      ],
      "metadata": {
        "id": "-eoWessEkSKC"
      },
      "execution_count": null,
      "outputs": []
    },
    {
      "cell_type": "markdown",
      "metadata": {
        "id": "7t_CNSs6B-8y"
      },
      "source": [
        "You can also inspect some of the images to see the variety in your model inputs."
      ]
    },
    {
      "cell_type": "code",
      "execution_count": null,
      "metadata": {
        "id": "jp9dLel9N9DS"
      },
      "outputs": [],
      "source": [
        "next_rock = [os.path.join(rock_dir, fname)\n",
        "             for fname in random.sample(rock_files, k=2)]\n",
        "next_paper = [os.path.join(paper_dir, fname)\n",
        "              for fname in random.sample(paper_files, k=2)]\n",
        "next_scissors = [os.path.join(scissors_dir, fname)\n",
        "                 for fname in random.sample(scissors_files, k=2)]\n",
        "\n",
        "for i, img_path in enumerate(next_rock+next_paper+next_scissors):\n",
        "    img = mpimg.imread(img_path)\n",
        "    plt.imshow(img)\n",
        "    plt.axis('Off')\n",
        "    plt.show()"
      ]
    },
    {
      "cell_type": "markdown",
      "metadata": {
        "id": "7Ps7kIRaFRIC"
      },
      "source": [
        "## Preprocess the Image Data\n",
        "\n",
        "You will prepare the training and validation datasets as before. The label mode will be `categorical` because you will predict more than two classes."
      ]
    },
    {
      "cell_type": "code",
      "execution_count": null,
      "metadata": {
        "id": "Au_DSdZ5pxRb"
      },
      "outputs": [],
      "source": [
        "from tensorflow.keras.preprocessing.image import ImageDataGenerator\n",
        "\n",
        "IMG_HEIGHT, IMG_WIDTH = 150, 150\n",
        "BATCH_SIZE = 32\n",
        "\n",
        "train_image_generator = ImageDataGenerator(\n",
        "    rescale=1./255,\n",
        "    validation_split=0.2,\n",
        "    rotation_range=20,\n",
        "    width_shift_range=0.2,\n",
        "    height_shift_range=0.2,\n",
        "    shear_range=0.2,\n",
        "    zoom_range=0.2,\n",
        "    horizontal_flip=True,\n",
        "    fill_mode='nearest'\n",
        ")\n",
        "\n",
        "train_data_gen = train_image_generator.flow_from_directory(\n",
        "    BASE_DIR,\n",
        "    target_size=(IMG_HEIGHT, IMG_WIDTH),\n",
        "    batch_size=BATCH_SIZE,\n",
        "    class_mode='categorical',\n",
        "    subset='training'\n",
        ")\n",
        "\n",
        "val_data_gen = train_image_generator.flow_from_directory(\n",
        "    BASE_DIR,\n",
        "    target_size=(IMG_HEIGHT, IMG_WIDTH),\n",
        "    batch_size=BATCH_SIZE,\n",
        "    class_mode='categorical',\n",
        "    subset='validation'\n",
        ")\n"
      ]
    },
    {
      "cell_type": "markdown",
      "metadata": {
        "id": "YdTv_jIuygwu"
      },
      "source": [
        "## Prepare the Model for Training\n",
        "\n",
        "You will use data augmentation to generate other poses that the model needs to learn."
      ]
    },
    {
      "cell_type": "code",
      "source": [
        "# train_size = int(0.8 * len(BASE_DIR))\n",
        "# valid_size = int(0.1 * len(BASE_DIR))\n",
        "# test_size =  int(0.1 * len(BASE_DIR))\n",
        "\n",
        "# print('train_size:', train_size)\n",
        "# print('valid_size:', valid_size)\n",
        "# print('test_size:', test_size)"
      ],
      "metadata": {
        "id": "MznynASrwYUk"
      },
      "execution_count": null,
      "outputs": []
    },
    {
      "cell_type": "code",
      "source": [
        "# train_ds = BASE_DIR.take(train_size)\n",
        "# valid_ds = BASE_DIR.skip(train_size).take(valid_size)\n",
        "# test_ds = dBASE_DIR.skip(train_size + valid_size).take(test_size)\n",
        "\n",
        "# print('len(train_ds):', len(train_ds))\n",
        "# print('len(valid_ds):', len(valid_ds))\n",
        "# print('len(test_ds):', len(test_ds))"
      ],
      "metadata": {
        "id": "rowdnAbgqM-A"
      },
      "execution_count": null,
      "outputs": []
    },
    {
      "cell_type": "markdown",
      "metadata": {
        "id": "Ufa0YF5oCpYw"
      },
      "source": [
        "## Build the model\n",
        "\n",
        "You will then build your CNN. You will use 4 convolution layers with 64-64-128-128 filters then append a `Dropout` layer to avoid overfitting and some `Dense` layers for the classification. The output layer would be a 3-neuron `Dense` layer activated by [Softmax](https://www.tensorflow.org/api_docs/python/tf/nn/softmax). You've seen this in Course 1 when you were training with Fashion MNIST. It scales your output to a set of probabilities that add up to 1. The order of this 3-neuron output would be paper-rock-scissors (e.g. a `[0.8 0.2 0.0]` output means the model is predicting 80% probability for paper and 20% probability for rock.\n",
        "\n",
        "You can examine the architecture with `model.summary()` below.\n",
        "\n",
        "**Note: Use Functional API**"
      ]
    },
    {
      "cell_type": "code",
      "execution_count": null,
      "metadata": {
        "id": "NrJEfhfEqlcJ"
      },
      "outputs": [],
      "source": [
        "import tensorflow as tf\n",
        "from tensorflow.keras.layers import Input, Conv2D, MaxPooling2D, Flatten, Dense, Dropout\n",
        "from tensorflow.keras.models import Model\n",
        "from tensorflow.keras.optimizers import Adam\n",
        "\n",
        "\n",
        "input_shape = (IMG_HEIGHT, IMG_WIDTH, 3)\n",
        "inputs = Input(shape=input_shape)\n",
        "\n",
        "\n",
        "x = Conv2D(64, (3, 3), activation='relu')(inputs)\n",
        "x = MaxPooling2D((2, 2))(x)\n",
        "\n",
        "\n",
        "x = Conv2D(64, (3, 3), activation='relu')(x)\n",
        "x = MaxPooling2D((2, 2))(x)\n",
        "\n",
        "\n",
        "x = Conv2D(128, (3, 3), activation='relu')(x)\n",
        "x = MaxPooling2D((2, 2))(x)\n",
        "\n",
        "x = Conv2D(128, (3, 3), activation='relu')(x)\n",
        "x = MaxPooling2D((2, 2))(x)\n",
        "\n",
        "x = Flatten()(x)\n",
        "x = Dense(512, activation='relu')(x)\n",
        "x = Dropout(0.5)(x)\n",
        "\n",
        "outputs = Dense(3, activation='softmax')(x)\n",
        "\n",
        "model = Model(inputs=inputs, outputs=outputs)\n",
        "\n",
        "\n",
        "model.compile(optimizer=Adam(),\n",
        "              loss='categorical_crossentropy',\n",
        "              metrics=['accuracy'])\n",
        "\n",
        "# Display the model's architecture\n",
        "model.summary()\n"
      ]
    },
    {
      "cell_type": "markdown",
      "metadata": {
        "id": "0zTD9SgDz-cC"
      },
      "source": [
        "You will compile the model using a [`categorical_crossentropy`](https://www.tensorflow.org/api_docs/python/tf/keras/losses/CategoricalCrossentropy) loss function to quantify the error across all 3 classes."
      ]
    },
    {
      "cell_type": "code",
      "execution_count": null,
      "metadata": {
        "id": "HY4G-rFVrCD2"
      },
      "outputs": [],
      "source": [
        "from tensorflow.keras.optimizers import Adam\n",
        "\n",
        "model.compile(\n",
        "    optimizer=Adam(),\n",
        "    loss='categorical_crossentropy',\n",
        "    metrics=['accuracy']\n",
        ")\n"
      ]
    },
    {
      "cell_type": "markdown",
      "metadata": {
        "id": "Orf1QQlGGyOe"
      },
      "source": [
        "## Train the model and evaluate the results\n",
        "\n",
        "You will train for 25 epochs and evaludate the results afterwards. Observe how both the training and validation accuracy are trending upwards. This is a good indication that the model is not overfitting to the training set.\n",
        "\n"
      ]
    },
    {
      "cell_type": "code",
      "execution_count": null,
      "metadata": {
        "id": "1mHX5L7HFXQ7"
      },
      "outputs": [],
      "source": [
        "epochs = 25"
      ]
    },
    {
      "cell_type": "code",
      "source": [
        "history = model.fit(\n",
        "    train_data_gen,\n",
        "    validation_data=val_data_gen,\n",
        "    epochs=epochs,\n",
        "    verbose=1\n",
        ")"
      ],
      "metadata": {
        "id": "lq7En_NWo9YL"
      },
      "execution_count": null,
      "outputs": []
    },
    {
      "cell_type": "code",
      "execution_count": null,
      "metadata": {
        "id": "aeTRVCr6aosw"
      },
      "outputs": [],
      "source": [
        "def plot_loss_acc(history):\n",
        "  '''Plots the training and validation loss and accuracy from a history object'''\n",
        "  acc = history.history['accuracy']\n",
        "  val_acc = history.history['val_accuracy']\n",
        "  loss = history.history['loss']\n",
        "  val_loss = history.history['val_loss']\n",
        "\n",
        "  epochs = range(len(acc))\n",
        "\n",
        "  fig, ax = plt.subplots(1,2, figsize=(12, 6))\n",
        "  ax[0].plot(epochs, acc, 'bo', label='Training accuracy')\n",
        "  ax[0].plot(epochs, val_acc, 'b', label='Validation accuracy')\n",
        "  ax[0].set_title('Training and validation accuracy')\n",
        "  ax[0].set_xlabel('epochs')\n",
        "  ax[0].set_ylabel('accuracy')\n",
        "  ax[0].legend()\n",
        "\n",
        "  ax[1].plot(epochs, loss, 'bo', label='Training Loss')\n",
        "  ax[1].plot(epochs, val_loss, 'b', label='Validation Loss')\n",
        "  ax[1].set_title('Training and validation loss')\n",
        "  ax[1].set_xlabel('epochs')\n",
        "  ax[1].set_ylabel('loss')\n",
        "  ax[1].legend()\n",
        "\n",
        "  plt.show()\n",
        "\n",
        "plot_loss_acc(history)"
      ]
    },
    {
      "cell_type": "markdown",
      "metadata": {
        "id": "Y3ps8Q1tpYMG"
      },
      "source": [
        "# Model Prediction\n",
        "\n",
        "You can feed in a picture and have the model classify it as rock, paper, or scissors. You can upload your own images or use the ones available [here](https://storage.googleapis.com/tensorflow-1-public/course2/week4/rps-validation.zip)."
      ]
    },
    {
      "cell_type": "code",
      "execution_count": null,
      "metadata": {
        "id": "ZABJp7T3VLCU"
      },
      "outputs": [],
      "source": [
        "from tensorflow.keras.preprocessing import image\n",
        "import numpy as np\n",
        "\n",
        "img_path = '/content/rps-test-set/rock/testrock01-05.png'\n",
        "img = image.load_img(img_path, target_size=(150, 150))\n",
        "img_array = image.img_to_array(img) / 255.0\n",
        "img_array = np.expand_dims(img_array, 0)\n",
        "\n",
        "prediction = model.predict(img_array)\n",
        "\n",
        "labels = ['paper', 'rock', 'scissors']\n",
        "result = labels[np.argmax(prediction)]\n",
        "\n",
        "print(\"Precict: \" ,result)\n",
        "\n"
      ]
    },
    {
      "cell_type": "markdown",
      "metadata": {
        "id": "JHRufhQYJJLU"
      },
      "source": [
        "## Wrap Up\n",
        "\n",
        "That concludes this short exercise on the multi-class classifiers. You saw that with just a few changes, you were able to convert your binary classifiers to predict more classes. You used the same techniques for data and model preparation and were able to get relatively good results in just 25 epochs. For practice, you can search for other datasets (e.g. [here](https://archive.ics.uci.edu/datasets)) with more classes and revise the model to accomodate it. Try to experiment with different layers and data augmentation techniques to improve your metrics."
      ]
    },
    {
      "cell_type": "markdown",
      "source": [
        "# Transfer Learning\n",
        "\n",
        "Fine-tune a pretrained model.\n",
        "\n",
        "Make use of: https://keras.io/api/keras_cv/models/"
      ],
      "metadata": {
        "id": "oaJWn29-17zD"
      }
    }
  ],
  "metadata": {
    "accelerator": "GPU",
    "colab": {
      "private_outputs": true,
      "provenance": [],
      "include_colab_link": true
    },
    "kernelspec": {
      "display_name": "Python 3 (ipykernel)",
      "language": "python",
      "name": "python3"
    },
    "language_info": {
      "codemirror_mode": {
        "name": "ipython",
        "version": 3
      },
      "file_extension": ".py",
      "mimetype": "text/x-python",
      "name": "python",
      "nbconvert_exporter": "python",
      "pygments_lexer": "ipython3",
      "version": "3.11.0rc1"
    }
  },
  "nbformat": 4,
  "nbformat_minor": 0
}